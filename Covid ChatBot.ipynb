{
  "nbformat": 4,
  "nbformat_minor": 0,
  "metadata": {
    "colab": {
      "name": "only_covid_dataset",
      "provenance": [],
      "collapsed_sections": []
    },
    "kernelspec": {
      "name": "python3",
      "display_name": "Python 3"
    },
    "accelerator": "TPU"
  },
  "cells": [
    {
      "cell_type": "code",
      "metadata": {
        "colab": {
          "base_uri": "https://localhost:8080/"
        },
        "id": "odGi7X0q8j6U",
        "outputId": "8cb7d309-5582-4c28-e98b-cdb2fa6c28bd"
      },
      "source": [
        "from __future__ import absolute_import, division, print_function, unicode_literals\r\n",
        "\r\n",
        "import sys\r\n",
        "\r\n",
        "if 'google.colab' in sys.modules:\r\n",
        "  %tensorflow_version 2.x\r\n",
        "import tensorflow as tf\r\n",
        "\r\n",
        "tf.random.set_seed(1234)\r\n",
        "AUTO = tf.data.experimental.AUTOTUNE\r\n",
        "\r\n",
        "!pip install tensorflow-datasets==1.2.0\r\n",
        "import tensorflow_datasets as tfds\r\n",
        "\r\n",
        "import os\r\n",
        "import re\r\n",
        "import numpy as np\r\n",
        "from time import time\r\n",
        "import matplotlib.pyplot as plt\r\n",
        "\r\n",
        "print(\"Tensorflow version {}\".format(tf.__version__))"
      ],
      "execution_count": 1,
      "outputs": [
        {
          "output_type": "stream",
          "text": [
            "Requirement already satisfied: tensorflow-datasets==1.2.0 in /usr/local/lib/python3.6/dist-packages (1.2.0)\n",
            "Requirement already satisfied: promise in /usr/local/lib/python3.6/dist-packages (from tensorflow-datasets==1.2.0) (2.3)\n",
            "Requirement already satisfied: attrs in /usr/local/lib/python3.6/dist-packages (from tensorflow-datasets==1.2.0) (20.3.0)\n",
            "Requirement already satisfied: absl-py in /usr/local/lib/python3.6/dist-packages (from tensorflow-datasets==1.2.0) (0.10.0)\n",
            "Requirement already satisfied: protobuf>=3.6.1 in /usr/local/lib/python3.6/dist-packages (from tensorflow-datasets==1.2.0) (3.12.4)\n",
            "Requirement already satisfied: six in /usr/local/lib/python3.6/dist-packages (from tensorflow-datasets==1.2.0) (1.15.0)\n",
            "Requirement already satisfied: wrapt in /usr/local/lib/python3.6/dist-packages (from tensorflow-datasets==1.2.0) (1.12.1)\n",
            "Requirement already satisfied: termcolor in /usr/local/lib/python3.6/dist-packages (from tensorflow-datasets==1.2.0) (1.1.0)\n",
            "Requirement already satisfied: requests>=2.19.0 in /usr/local/lib/python3.6/dist-packages (from tensorflow-datasets==1.2.0) (2.23.0)\n",
            "Requirement already satisfied: psutil in /usr/local/lib/python3.6/dist-packages (from tensorflow-datasets==1.2.0) (5.4.8)\n",
            "Requirement already satisfied: future in /usr/local/lib/python3.6/dist-packages (from tensorflow-datasets==1.2.0) (0.16.0)\n",
            "Requirement already satisfied: tensorflow-metadata in /usr/local/lib/python3.6/dist-packages (from tensorflow-datasets==1.2.0) (0.25.0)\n",
            "Requirement already satisfied: dill in /usr/local/lib/python3.6/dist-packages (from tensorflow-datasets==1.2.0) (0.3.3)\n",
            "Requirement already satisfied: numpy in /usr/local/lib/python3.6/dist-packages (from tensorflow-datasets==1.2.0) (1.18.5)\n",
            "Requirement already satisfied: tqdm in /usr/local/lib/python3.6/dist-packages (from tensorflow-datasets==1.2.0) (4.41.1)\n",
            "Requirement already satisfied: setuptools in /usr/local/lib/python3.6/dist-packages (from protobuf>=3.6.1->tensorflow-datasets==1.2.0) (50.3.2)\n",
            "Requirement already satisfied: certifi>=2017.4.17 in /usr/local/lib/python3.6/dist-packages (from requests>=2.19.0->tensorflow-datasets==1.2.0) (2020.12.5)\n",
            "Requirement already satisfied: idna<3,>=2.5 in /usr/local/lib/python3.6/dist-packages (from requests>=2.19.0->tensorflow-datasets==1.2.0) (2.10)\n",
            "Requirement already satisfied: urllib3!=1.25.0,!=1.25.1,<1.26,>=1.21.1 in /usr/local/lib/python3.6/dist-packages (from requests>=2.19.0->tensorflow-datasets==1.2.0) (1.24.3)\n",
            "Requirement already satisfied: chardet<4,>=3.0.2 in /usr/local/lib/python3.6/dist-packages (from requests>=2.19.0->tensorflow-datasets==1.2.0) (3.0.4)\n",
            "Requirement already satisfied: googleapis-common-protos<2,>=1.52.0 in /usr/local/lib/python3.6/dist-packages (from tensorflow-metadata->tensorflow-datasets==1.2.0) (1.52.0)\n",
            "Tensorflow version 2.3.0\n"
          ],
          "name": "stdout"
        }
      ]
    },
    {
      "cell_type": "code",
      "metadata": {
        "colab": {
          "base_uri": "https://localhost:8080/"
        },
        "id": "t5fY13Mm8uGb",
        "outputId": "e4211898-9996-4fec-f9bc-35437e8ea3a6"
      },
      "source": [
        "try:\r\n",
        "    tpu = tf.distribute.cluster_resolver.TPUClusterResolver()\r\n",
        "    print('Running on TPU {}'.format(tpu.cluster_spec().as_dict()['worker']))\r\n",
        "except ValueError:\r\n",
        "    tpu = None\r\n",
        "\r\n",
        "if tpu:\r\n",
        "    tf.config.experimental_connect_to_cluster(tpu)\r\n",
        "    tf.tpu.experimental.initialize_tpu_system(tpu)\r\n",
        "    strategy = tf.distribute.experimental.TPUStrategy(tpu)\r\n",
        "else:\r\n",
        "    strategy = tf.distribute.get_strategy()\r\n",
        "\r\n",
        "print(\"REPLICAS: {}\".format(strategy.num_replicas_in_sync))"
      ],
      "execution_count": 2,
      "outputs": [
        {
          "output_type": "stream",
          "text": [
            "Running on TPU ['10.22.212.210:8470']\n",
            "INFO:tensorflow:Initializing the TPU system: grpc://10.22.212.210:8470\n"
          ],
          "name": "stdout"
        },
        {
          "output_type": "stream",
          "text": [
            "INFO:tensorflow:Initializing the TPU system: grpc://10.22.212.210:8470\n"
          ],
          "name": "stderr"
        },
        {
          "output_type": "stream",
          "text": [
            "INFO:tensorflow:Clearing out eager caches\n"
          ],
          "name": "stdout"
        },
        {
          "output_type": "stream",
          "text": [
            "INFO:tensorflow:Clearing out eager caches\n"
          ],
          "name": "stderr"
        },
        {
          "output_type": "stream",
          "text": [
            "INFO:tensorflow:Finished initializing TPU system.\n"
          ],
          "name": "stdout"
        },
        {
          "output_type": "stream",
          "text": [
            "INFO:tensorflow:Finished initializing TPU system.\n",
            "WARNING:absl:`tf.distribute.experimental.TPUStrategy` is deprecated, please use  the non experimental symbol `tf.distribute.TPUStrategy` instead.\n"
          ],
          "name": "stderr"
        },
        {
          "output_type": "stream",
          "text": [
            "INFO:tensorflow:Found TPU system:\n"
          ],
          "name": "stdout"
        },
        {
          "output_type": "stream",
          "text": [
            "INFO:tensorflow:Found TPU system:\n"
          ],
          "name": "stderr"
        },
        {
          "output_type": "stream",
          "text": [
            "INFO:tensorflow:*** Num TPU Cores: 8\n"
          ],
          "name": "stdout"
        },
        {
          "output_type": "stream",
          "text": [
            "INFO:tensorflow:*** Num TPU Cores: 8\n"
          ],
          "name": "stderr"
        },
        {
          "output_type": "stream",
          "text": [
            "INFO:tensorflow:*** Num TPU Workers: 1\n"
          ],
          "name": "stdout"
        },
        {
          "output_type": "stream",
          "text": [
            "INFO:tensorflow:*** Num TPU Workers: 1\n"
          ],
          "name": "stderr"
        },
        {
          "output_type": "stream",
          "text": [
            "INFO:tensorflow:*** Num TPU Cores Per Worker: 8\n"
          ],
          "name": "stdout"
        },
        {
          "output_type": "stream",
          "text": [
            "INFO:tensorflow:*** Num TPU Cores Per Worker: 8\n"
          ],
          "name": "stderr"
        },
        {
          "output_type": "stream",
          "text": [
            "INFO:tensorflow:*** Available Device: _DeviceAttributes(/job:localhost/replica:0/task:0/device:CPU:0, CPU, 0, 0)\n"
          ],
          "name": "stdout"
        },
        {
          "output_type": "stream",
          "text": [
            "INFO:tensorflow:*** Available Device: _DeviceAttributes(/job:localhost/replica:0/task:0/device:CPU:0, CPU, 0, 0)\n"
          ],
          "name": "stderr"
        },
        {
          "output_type": "stream",
          "text": [
            "INFO:tensorflow:*** Available Device: _DeviceAttributes(/job:localhost/replica:0/task:0/device:XLA_CPU:0, XLA_CPU, 0, 0)\n"
          ],
          "name": "stdout"
        },
        {
          "output_type": "stream",
          "text": [
            "INFO:tensorflow:*** Available Device: _DeviceAttributes(/job:localhost/replica:0/task:0/device:XLA_CPU:0, XLA_CPU, 0, 0)\n"
          ],
          "name": "stderr"
        },
        {
          "output_type": "stream",
          "text": [
            "INFO:tensorflow:*** Available Device: _DeviceAttributes(/job:worker/replica:0/task:0/device:CPU:0, CPU, 0, 0)\n"
          ],
          "name": "stdout"
        },
        {
          "output_type": "stream",
          "text": [
            "INFO:tensorflow:*** Available Device: _DeviceAttributes(/job:worker/replica:0/task:0/device:CPU:0, CPU, 0, 0)\n"
          ],
          "name": "stderr"
        },
        {
          "output_type": "stream",
          "text": [
            "INFO:tensorflow:*** Available Device: _DeviceAttributes(/job:worker/replica:0/task:0/device:TPU:0, TPU, 0, 0)\n"
          ],
          "name": "stdout"
        },
        {
          "output_type": "stream",
          "text": [
            "INFO:tensorflow:*** Available Device: _DeviceAttributes(/job:worker/replica:0/task:0/device:TPU:0, TPU, 0, 0)\n"
          ],
          "name": "stderr"
        },
        {
          "output_type": "stream",
          "text": [
            "INFO:tensorflow:*** Available Device: _DeviceAttributes(/job:worker/replica:0/task:0/device:TPU:1, TPU, 0, 0)\n"
          ],
          "name": "stdout"
        },
        {
          "output_type": "stream",
          "text": [
            "INFO:tensorflow:*** Available Device: _DeviceAttributes(/job:worker/replica:0/task:0/device:TPU:1, TPU, 0, 0)\n"
          ],
          "name": "stderr"
        },
        {
          "output_type": "stream",
          "text": [
            "INFO:tensorflow:*** Available Device: _DeviceAttributes(/job:worker/replica:0/task:0/device:TPU:2, TPU, 0, 0)\n"
          ],
          "name": "stdout"
        },
        {
          "output_type": "stream",
          "text": [
            "INFO:tensorflow:*** Available Device: _DeviceAttributes(/job:worker/replica:0/task:0/device:TPU:2, TPU, 0, 0)\n"
          ],
          "name": "stderr"
        },
        {
          "output_type": "stream",
          "text": [
            "INFO:tensorflow:*** Available Device: _DeviceAttributes(/job:worker/replica:0/task:0/device:TPU:3, TPU, 0, 0)\n"
          ],
          "name": "stdout"
        },
        {
          "output_type": "stream",
          "text": [
            "INFO:tensorflow:*** Available Device: _DeviceAttributes(/job:worker/replica:0/task:0/device:TPU:3, TPU, 0, 0)\n"
          ],
          "name": "stderr"
        },
        {
          "output_type": "stream",
          "text": [
            "INFO:tensorflow:*** Available Device: _DeviceAttributes(/job:worker/replica:0/task:0/device:TPU:4, TPU, 0, 0)\n"
          ],
          "name": "stdout"
        },
        {
          "output_type": "stream",
          "text": [
            "INFO:tensorflow:*** Available Device: _DeviceAttributes(/job:worker/replica:0/task:0/device:TPU:4, TPU, 0, 0)\n"
          ],
          "name": "stderr"
        },
        {
          "output_type": "stream",
          "text": [
            "INFO:tensorflow:*** Available Device: _DeviceAttributes(/job:worker/replica:0/task:0/device:TPU:5, TPU, 0, 0)\n"
          ],
          "name": "stdout"
        },
        {
          "output_type": "stream",
          "text": [
            "INFO:tensorflow:*** Available Device: _DeviceAttributes(/job:worker/replica:0/task:0/device:TPU:5, TPU, 0, 0)\n"
          ],
          "name": "stderr"
        },
        {
          "output_type": "stream",
          "text": [
            "INFO:tensorflow:*** Available Device: _DeviceAttributes(/job:worker/replica:0/task:0/device:TPU:6, TPU, 0, 0)\n"
          ],
          "name": "stdout"
        },
        {
          "output_type": "stream",
          "text": [
            "INFO:tensorflow:*** Available Device: _DeviceAttributes(/job:worker/replica:0/task:0/device:TPU:6, TPU, 0, 0)\n"
          ],
          "name": "stderr"
        },
        {
          "output_type": "stream",
          "text": [
            "INFO:tensorflow:*** Available Device: _DeviceAttributes(/job:worker/replica:0/task:0/device:TPU:7, TPU, 0, 0)\n"
          ],
          "name": "stdout"
        },
        {
          "output_type": "stream",
          "text": [
            "INFO:tensorflow:*** Available Device: _DeviceAttributes(/job:worker/replica:0/task:0/device:TPU:7, TPU, 0, 0)\n"
          ],
          "name": "stderr"
        },
        {
          "output_type": "stream",
          "text": [
            "INFO:tensorflow:*** Available Device: _DeviceAttributes(/job:worker/replica:0/task:0/device:TPU_SYSTEM:0, TPU_SYSTEM, 0, 0)\n"
          ],
          "name": "stdout"
        },
        {
          "output_type": "stream",
          "text": [
            "INFO:tensorflow:*** Available Device: _DeviceAttributes(/job:worker/replica:0/task:0/device:TPU_SYSTEM:0, TPU_SYSTEM, 0, 0)\n"
          ],
          "name": "stderr"
        },
        {
          "output_type": "stream",
          "text": [
            "INFO:tensorflow:*** Available Device: _DeviceAttributes(/job:worker/replica:0/task:0/device:XLA_CPU:0, XLA_CPU, 0, 0)\n"
          ],
          "name": "stdout"
        },
        {
          "output_type": "stream",
          "text": [
            "INFO:tensorflow:*** Available Device: _DeviceAttributes(/job:worker/replica:0/task:0/device:XLA_CPU:0, XLA_CPU, 0, 0)\n"
          ],
          "name": "stderr"
        },
        {
          "output_type": "stream",
          "text": [
            "REPLICAS: 8\n"
          ],
          "name": "stdout"
        }
      ]
    },
    {
      "cell_type": "code",
      "metadata": {
        "id": "9c8S4Vglag0B"
      },
      "source": [
        "import pandas as pd"
      ],
      "execution_count": 3,
      "outputs": []
    },
    {
      "cell_type": "code",
      "metadata": {
        "id": "CXq-ML7Z9ZY-"
      },
      "source": [
        "# Maximum sentence length\r\n",
        "MAX_LENGTH = 60\r\n",
        "\r\n",
        "# Maximum number of samples to preprocess\r\n",
        "MAX_SAMPLES = 50000\r\n",
        "\r\n",
        "# For tf.data.Dataset\r\n",
        "BATCH_SIZE = 4 * strategy.num_replicas_in_sync\r\n",
        "BUFFER_SIZE = 10000\r\n",
        "\r\n",
        "# For Transformer\r\n",
        "NUM_LAYERS = 2\r\n",
        "D_MODEL = 512\r\n",
        "NUM_HEADS = 8\r\n",
        "UNITS = 256\r\n",
        "DROPOUT = 0.1\r\n",
        "\r\n",
        "EPOCHS = 20"
      ],
      "execution_count": 4,
      "outputs": []
    },
    {
      "cell_type": "code",
      "metadata": {
        "id": "4dvbCAgUxMIH"
      },
      "source": [
        "# Code to read csv file into Colaboratory:\r\n",
        "!pip install -U -q PyDrive\r\n",
        "from pydrive.auth import GoogleAuth\r\n",
        "from pydrive.drive import GoogleDrive\r\n",
        "from google.colab import auth\r\n",
        "from oauth2client.client import GoogleCredentials\r\n",
        "# Authenticate and create the PyDrive client.\r\n",
        "auth.authenticate_user()\r\n",
        "gauth = GoogleAuth()\r\n",
        "gauth.credentials = GoogleCredentials.get_application_default()\r\n",
        "drive = GoogleDrive(gauth)"
      ],
      "execution_count": 5,
      "outputs": []
    },
    {
      "cell_type": "code",
      "metadata": {
        "id": "4kJ999Wfx-L_"
      },
      "source": [
        "id = '1_VyJOwvwY5HJlJGe02dBFOWjc5z4Qu9N' "
      ],
      "execution_count": 6,
      "outputs": []
    },
    {
      "cell_type": "code",
      "metadata": {
        "id": "vLXMhPzcyVs_",
        "colab": {
          "base_uri": "https://localhost:8080/"
        },
        "outputId": "525d1801-a252-4835-c7bc-96d421fb19e0"
      },
      "source": [
        "downloaded = drive.CreateFile({'id':id}) \r\n",
        "downloaded.GetContentFile('only_covid_dataset.json')  \r\n",
        "df3 = pd.read_json('only_covid_dataset.json', lines=False)"
      ],
      "execution_count": 7,
      "outputs": [
        {
          "output_type": "stream",
          "text": [
            "WARNING:googleapiclient.discovery_cache:file_cache is unavailable when using oauth2client >= 4.0.0 or google-auth\n",
            "Traceback (most recent call last):\n",
            "  File \"/usr/local/lib/python3.6/dist-packages/googleapiclient/discovery_cache/__init__.py\", line 36, in autodetect\n",
            "    from google.appengine.api import memcache\n",
            "ModuleNotFoundError: No module named 'google.appengine'\n",
            "\n",
            "During handling of the above exception, another exception occurred:\n",
            "\n",
            "Traceback (most recent call last):\n",
            "  File \"/usr/local/lib/python3.6/dist-packages/googleapiclient/discovery_cache/file_cache.py\", line 33, in <module>\n",
            "    from oauth2client.contrib.locked_file import LockedFile\n",
            "ModuleNotFoundError: No module named 'oauth2client.contrib.locked_file'\n",
            "\n",
            "During handling of the above exception, another exception occurred:\n",
            "\n",
            "Traceback (most recent call last):\n",
            "  File \"/usr/local/lib/python3.6/dist-packages/googleapiclient/discovery_cache/file_cache.py\", line 37, in <module>\n",
            "    from oauth2client.locked_file import LockedFile\n",
            "ModuleNotFoundError: No module named 'oauth2client.locked_file'\n",
            "\n",
            "During handling of the above exception, another exception occurred:\n",
            "\n",
            "Traceback (most recent call last):\n",
            "  File \"/usr/local/lib/python3.6/dist-packages/googleapiclient/discovery_cache/__init__.py\", line 42, in autodetect\n",
            "    from . import file_cache\n",
            "  File \"/usr/local/lib/python3.6/dist-packages/googleapiclient/discovery_cache/file_cache.py\", line 41, in <module>\n",
            "    \"file_cache is unavailable when using oauth2client >= 4.0.0 or google-auth\"\n",
            "ImportError: file_cache is unavailable when using oauth2client >= 4.0.0 or google-auth\n"
          ],
          "name": "stderr"
        }
      ]
    },
    {
      "cell_type": "code",
      "metadata": {
        "colab": {
          "base_uri": "https://localhost:8080/"
        },
        "id": "LHqbwobDyjtf",
        "outputId": "4706eeb5-a797-4d73-a4e2-d243697f817c"
      },
      "source": [
        "print(df3)"
      ],
      "execution_count": 8,
      "outputs": [
        {
          "output_type": "stream",
          "text": [
            "                                                question                                             answer\n",
            "0      Can I get COVID-19 from animals when travellin...  Although the current spread and growth of the ...\n",
            "1                   How can I protect myself and others?  The best way to prevent illness from COVID-19 ...\n",
            "2                          Where did COVID-19 come from?  It was first found in Wuhan City, Hubei Provin...\n",
            "3      Can my pet or other animals get sick from COVI...  However, livestock producers should follow nor...\n",
            "4              How can I protect my child from COVID-19?  Washing hands with soap and water for at least...\n",
            "...                                                  ...                                                ...\n",
            "24235                   What is novel (new) coronavirus?  COVID-19 is a new coronavirus that we have not...\n",
            "24236                             What is a coronavirus?  Coronavirus are a type of virus - there are ma...\n",
            "24237                   What is novel (new) coronavirus?  COVID-19 is a new coronavirus that we have not...\n",
            "24238  Do viruses get weaker over time? Will coronavi...  They can, but it is not guaranteed; it depends...\n",
            "24239                                               None                                                nan\n",
            "\n",
            "[24240 rows x 2 columns]\n"
          ],
          "name": "stdout"
        }
      ]
    },
    {
      "cell_type": "code",
      "metadata": {
        "colab": {
          "base_uri": "https://localhost:8080/",
          "height": 419
        },
        "id": "uQLAyfMpzMcg",
        "outputId": "fbd1b075-61a4-4652-ddc1-4ddbbac1a5af"
      },
      "source": [
        "df3"
      ],
      "execution_count": 9,
      "outputs": [
        {
          "output_type": "execute_result",
          "data": {
            "text/html": [
              "<div>\n",
              "<style scoped>\n",
              "    .dataframe tbody tr th:only-of-type {\n",
              "        vertical-align: middle;\n",
              "    }\n",
              "\n",
              "    .dataframe tbody tr th {\n",
              "        vertical-align: top;\n",
              "    }\n",
              "\n",
              "    .dataframe thead th {\n",
              "        text-align: right;\n",
              "    }\n",
              "</style>\n",
              "<table border=\"1\" class=\"dataframe\">\n",
              "  <thead>\n",
              "    <tr style=\"text-align: right;\">\n",
              "      <th></th>\n",
              "      <th>question</th>\n",
              "      <th>answer</th>\n",
              "    </tr>\n",
              "  </thead>\n",
              "  <tbody>\n",
              "    <tr>\n",
              "      <th>0</th>\n",
              "      <td>Can I get COVID-19 from animals when travellin...</td>\n",
              "      <td>Although the current spread and growth of the ...</td>\n",
              "    </tr>\n",
              "    <tr>\n",
              "      <th>1</th>\n",
              "      <td>How can I protect myself and others?</td>\n",
              "      <td>The best way to prevent illness from COVID-19 ...</td>\n",
              "    </tr>\n",
              "    <tr>\n",
              "      <th>2</th>\n",
              "      <td>Where did COVID-19 come from?</td>\n",
              "      <td>It was first found in Wuhan City, Hubei Provin...</td>\n",
              "    </tr>\n",
              "    <tr>\n",
              "      <th>3</th>\n",
              "      <td>Can my pet or other animals get sick from COVI...</td>\n",
              "      <td>However, livestock producers should follow nor...</td>\n",
              "    </tr>\n",
              "    <tr>\n",
              "      <th>4</th>\n",
              "      <td>How can I protect my child from COVID-19?</td>\n",
              "      <td>Washing hands with soap and water for at least...</td>\n",
              "    </tr>\n",
              "    <tr>\n",
              "      <th>...</th>\n",
              "      <td>...</td>\n",
              "      <td>...</td>\n",
              "    </tr>\n",
              "    <tr>\n",
              "      <th>24235</th>\n",
              "      <td>What is novel (new) coronavirus?</td>\n",
              "      <td>COVID-19 is a new coronavirus that we have not...</td>\n",
              "    </tr>\n",
              "    <tr>\n",
              "      <th>24236</th>\n",
              "      <td>What is a coronavirus?</td>\n",
              "      <td>Coronavirus are a type of virus - there are ma...</td>\n",
              "    </tr>\n",
              "    <tr>\n",
              "      <th>24237</th>\n",
              "      <td>What is novel (new) coronavirus?</td>\n",
              "      <td>COVID-19 is a new coronavirus that we have not...</td>\n",
              "    </tr>\n",
              "    <tr>\n",
              "      <th>24238</th>\n",
              "      <td>Do viruses get weaker over time? Will coronavi...</td>\n",
              "      <td>They can, but it is not guaranteed; it depends...</td>\n",
              "    </tr>\n",
              "    <tr>\n",
              "      <th>24239</th>\n",
              "      <td>None</td>\n",
              "      <td>nan</td>\n",
              "    </tr>\n",
              "  </tbody>\n",
              "</table>\n",
              "<p>24240 rows × 2 columns</p>\n",
              "</div>"
            ],
            "text/plain": [
              "                                                question                                             answer\n",
              "0      Can I get COVID-19 from animals when travellin...  Although the current spread and growth of the ...\n",
              "1                   How can I protect myself and others?  The best way to prevent illness from COVID-19 ...\n",
              "2                          Where did COVID-19 come from?  It was first found in Wuhan City, Hubei Provin...\n",
              "3      Can my pet or other animals get sick from COVI...  However, livestock producers should follow nor...\n",
              "4              How can I protect my child from COVID-19?  Washing hands with soap and water for at least...\n",
              "...                                                  ...                                                ...\n",
              "24235                   What is novel (new) coronavirus?  COVID-19 is a new coronavirus that we have not...\n",
              "24236                             What is a coronavirus?  Coronavirus are a type of virus - there are ma...\n",
              "24237                   What is novel (new) coronavirus?  COVID-19 is a new coronavirus that we have not...\n",
              "24238  Do viruses get weaker over time? Will coronavi...  They can, but it is not guaranteed; it depends...\n",
              "24239                                               None                                                nan\n",
              "\n",
              "[24240 rows x 2 columns]"
            ]
          },
          "metadata": {
            "tags": []
          },
          "execution_count": 9
        }
      ]
    },
    {
      "cell_type": "code",
      "metadata": {
        "id": "M_ba0H3quRfI"
      },
      "source": [
        "import re\r\n",
        "def preprocess_sentence(sentence):\r\n",
        "  sentence = sentence.lower().strip()\r\n",
        "  # creating a space between a word and the punctuation following it\r\n",
        "  # eg: \"he is a boy.\" => \"he is a boy .\"\r\n",
        "  sentence = re.sub(r\"([?.!,])\", r\" \\1 \", sentence)\r\n",
        "  sentence = re.sub(r'[\" \"]+', \" \", sentence)\r\n",
        "  # removing contractions\r\n",
        "  sentence = re.sub(r\"i'm\", \"i am\", sentence)\r\n",
        "  sentence = re.sub(r\"he's\", \"he is\", sentence)\r\n",
        "  sentence = re.sub(r\"she's\", \"she is\", sentence)\r\n",
        "  sentence = re.sub(r\"it's\", \"it is\", sentence)\r\n",
        "  sentence = re.sub(r\"that's\", \"that is\", sentence)\r\n",
        "  sentence = re.sub(r\"what's\", \"that is\", sentence)\r\n",
        "  sentence = re.sub(r\"where's\", \"where is\", sentence)\r\n",
        "  sentence = re.sub(r\"how's\", \"how is\", sentence)\r\n",
        "  sentence = re.sub(r\"\\'ll\", \" will\", sentence)\r\n",
        "  sentence = re.sub(r\"\\'ve\", \" have\", sentence)\r\n",
        "  sentence = re.sub(r\"\\'re\", \" are\", sentence)\r\n",
        "  sentence = re.sub(r\"\\'d\", \" would\", sentence)\r\n",
        "  sentence = re.sub(r\"\\'re\", \" are\", sentence)\r\n",
        "  sentence = re.sub(r\"won't\", \"will not\", sentence)\r\n",
        "  sentence = re.sub(r\"can't\", \"cannot\", sentence)\r\n",
        "  sentence = re.sub(r\"n't\", \" not\", sentence)\r\n",
        "  sentence = re.sub(r\"n'\", \"ng\", sentence)\r\n",
        "  sentence = re.sub(r\"'bout\", \"about\", sentence)\r\n",
        "  # replacing everything with space except (a-z, A-Z, \".\", \"?\", \"!\", \",\")\r\n",
        "  sentence = re.sub(r\"[^a-zA-Z?.!,0-9 %]+\", \" \", sentence)\r\n",
        "  sentence = sentence.strip()\r\n",
        "  return sentence"
      ],
      "execution_count": 10,
      "outputs": []
    },
    {
      "cell_type": "code",
      "metadata": {
        "id": "Z378PQY-Cpnj"
      },
      "source": [
        "questions = []\r\n",
        "for i in df3.question:\r\n",
        "  i = str(i)\r\n",
        "  #i = preprocess_sentence(i)\r\n",
        "  questions.append(i)"
      ],
      "execution_count": 11,
      "outputs": []
    },
    {
      "cell_type": "code",
      "metadata": {
        "id": "kPKdwhmIMEF6"
      },
      "source": [
        "answers = []\r\n",
        "for i in df3.answer:\r\n",
        "  i = str(i)\r\n",
        "  #strings = i[(i.find(\"'answer'\")) + 11:i.find(\"}\")-1]\r\n",
        "  #strings = preprocess_sentence(i)\r\n",
        "  answers.append(i)\r\n",
        "\r\n"
      ],
      "execution_count": 12,
      "outputs": []
    },
    {
      "cell_type": "code",
      "metadata": {
        "id": "eLCjH1tUQAh8",
        "colab": {
          "base_uri": "https://localhost:8080/"
        },
        "outputId": "98710f48-0e92-4d6b-a6c3-2d9f390d2467"
      },
      "source": [
        "print(questions[200])\r\n",
        "print(\"\\n\")\r\n",
        "print(answers[200])"
      ],
      "execution_count": 13,
      "outputs": [
        {
          "output_type": "stream",
          "text": [
            "What are the complications of COVID-19? \n",
            "\n",
            "\n",
            "nan\n"
          ],
          "name": "stdout"
        }
      ]
    },
    {
      "cell_type": "code",
      "metadata": {
        "colab": {
          "base_uri": "https://localhost:8080/"
        },
        "id": "hZOzoX6Yv7sF",
        "outputId": "8dbf17d6-7412-4662-af69-0abe95a3c477"
      },
      "source": [
        "print(df3.question[200])"
      ],
      "execution_count": 14,
      "outputs": [
        {
          "output_type": "stream",
          "text": [
            "What are the complications of COVID-19? \n"
          ],
          "name": "stdout"
        }
      ]
    },
    {
      "cell_type": "code",
      "metadata": {
        "colab": {
          "base_uri": "https://localhost:8080/",
          "height": 35
        },
        "id": "svO04M3Vwm8H",
        "outputId": "5fd848dc-869c-411d-caa3-8cfe72125ab4"
      },
      "source": [
        "preprocess_sentence('is 10,000 years old.')"
      ],
      "execution_count": 15,
      "outputs": [
        {
          "output_type": "execute_result",
          "data": {
            "application/vnd.google.colaboratory.intrinsic+json": {
              "type": "string"
            },
            "text/plain": [
              "'is 10 , 000 years old .'"
            ]
          },
          "metadata": {
            "tags": []
          },
          "execution_count": 15
        }
      ]
    },
    {
      "cell_type": "code",
      "metadata": {
        "colab": {
          "base_uri": "https://localhost:8080/"
        },
        "id": "HOawHG1axUi8",
        "outputId": "5b422d90-86c6-4ef0-f503-13a5dcdf9a31"
      },
      "source": [
        "print(df3.answer[200])"
      ],
      "execution_count": 16,
      "outputs": [
        {
          "output_type": "stream",
          "text": [
            "nan\n"
          ],
          "name": "stdout"
        }
      ]
    },
    {
      "cell_type": "code",
      "metadata": {
        "id": "Blb-3gmoyIs2"
      },
      "source": [
        "# Build tokenizer using tfds for both questions and answers\r\n",
        "tokenizer = tfds.features.text.SubwordTextEncoder.build_from_corpus(\r\n",
        "    questions + answers, target_vocab_size=12000)\r\n",
        "\r\n",
        "# Define start and end token to indicate the start and end of a sentence\r\n",
        "START_TOKEN, END_TOKEN = [tokenizer.vocab_size], [tokenizer.vocab_size + 1]\r\n",
        "\r\n",
        "# Vocabulary size plus start and end token\r\n",
        "VOCAB_SIZE = tokenizer.vocab_size + 2"
      ],
      "execution_count": 17,
      "outputs": []
    },
    {
      "cell_type": "code",
      "metadata": {
        "colab": {
          "base_uri": "https://localhost:8080/"
        },
        "id": "pxVXQE9m-HeB",
        "outputId": "dcce444d-1cd1-4a49-ec0e-284e2d279a85"
      },
      "source": [
        "print('Tokenized sample question: {}'.format(tokenizer.encode(questions[20])))"
      ],
      "execution_count": 18,
      "outputs": [
        {
          "output_type": "stream",
          "text": [
            "Tokenized sample question: [20, 87, 19, 79, 75, 19, 454, 550, 13, 7, 549, 1435]\n"
          ],
          "name": "stdout"
        }
      ]
    },
    {
      "cell_type": "code",
      "metadata": {
        "id": "QDmJ7uQBCwe-"
      },
      "source": [
        "# Tokenize, filter and pad sentences\r\n",
        "def tokenize_and_filter(inputs, outputs):\r\n",
        "  tokenized_inputs, tokenized_outputs = [], []\r\n",
        "  \r\n",
        "  for (sentence1, sentence2) in zip(inputs, outputs):\r\n",
        "    # tokenize sentence\r\n",
        "    sentence1 = START_TOKEN + tokenizer.encode(sentence1) + END_TOKEN\r\n",
        "    sentence2 = START_TOKEN + tokenizer.encode(sentence2) + END_TOKEN\r\n",
        "    # check tokenized sentence max length\r\n",
        "    if len(sentence1) <= MAX_LENGTH and len(sentence2) <= MAX_LENGTH:\r\n",
        "      tokenized_inputs.append(sentence1)\r\n",
        "      tokenized_outputs.append(sentence2)\r\n",
        "  \r\n",
        "  # pad tokenized sentences\r\n",
        "  tokenized_inputs = tf.keras.preprocessing.sequence.pad_sequences(\r\n",
        "      tokenized_inputs, maxlen=MAX_LENGTH, padding='post')\r\n",
        "  tokenized_outputs = tf.keras.preprocessing.sequence.pad_sequences(\r\n",
        "      tokenized_outputs, maxlen=MAX_LENGTH, padding='post')\r\n",
        "  \r\n",
        "  return tokenized_inputs, tokenized_outputs\r\n",
        "\r\n",
        "\r\n",
        "questions, answers = tokenize_and_filter(questions, answers)"
      ],
      "execution_count": 19,
      "outputs": []
    },
    {
      "cell_type": "code",
      "metadata": {
        "id": "MN5bgFFNC6N2",
        "colab": {
          "base_uri": "https://localhost:8080/"
        },
        "outputId": "a9fd899c-66bb-4cc3-a292-dce17f3114f6"
      },
      "source": [
        "print('Vocab size: {}'.format(VOCAB_SIZE))\r\n",
        "print('Number of samples: {}'.format(len(questions)))"
      ],
      "execution_count": 20,
      "outputs": [
        {
          "output_type": "stream",
          "text": [
            "Vocab size: 1630\n",
            "Number of samples: 20427\n"
          ],
          "name": "stdout"
        }
      ]
    },
    {
      "cell_type": "code",
      "metadata": {
        "id": "3h8rfvrzEaKw"
      },
      "source": [
        "# decoder inputs use the previous target as input\r\n",
        "# remove START_TOKEN from targets\r\n",
        "dataset = tf.data.Dataset.from_tensor_slices((\r\n",
        "    {\r\n",
        "        'inputs': questions,\r\n",
        "        'dec_inputs': answers[:, :-1]\r\n",
        "    },\r\n",
        "    {\r\n",
        "        'outputs': answers[:, 1:]\r\n",
        "    },\r\n",
        "))\r\n",
        "\r\n",
        "dataset = dataset.cache()\r\n",
        "dataset = dataset.shuffle(BUFFER_SIZE)\r\n",
        "dataset = dataset.batch(BATCH_SIZE)\r\n",
        "dataset = dataset.prefetch(tf.data.experimental.AUTOTUNE)"
      ],
      "execution_count": 21,
      "outputs": []
    },
    {
      "cell_type": "code",
      "metadata": {
        "id": "oLtxJFgr_Ar6",
        "colab": {
          "base_uri": "https://localhost:8080/"
        },
        "outputId": "532ae39a-25a4-41ef-9d23-ead86db21e1d"
      },
      "source": [
        "print(dataset)"
      ],
      "execution_count": 22,
      "outputs": [
        {
          "output_type": "stream",
          "text": [
            "<PrefetchDataset shapes: ({inputs: (None, 60), dec_inputs: (None, 59)}, {outputs: (None, 59)}), types: ({inputs: tf.int32, dec_inputs: tf.int32}, {outputs: tf.int32})>\n"
          ],
          "name": "stdout"
        }
      ]
    },
    {
      "cell_type": "code",
      "metadata": {
        "id": "yeHpvoe2Kbp_"
      },
      "source": [
        "def scaled_dot_product_attention(query, key, value, mask):\r\n",
        "  \"\"\"Calculate the attention weights. \"\"\"\r\n",
        "  matmul_qk = tf.matmul(query, key, transpose_b=True)\r\n",
        "\r\n",
        "  # scale matmul_qk\r\n",
        "  depth = tf.cast(tf.shape(key)[-1], tf.float32)\r\n",
        "  logits = matmul_qk / tf.math.sqrt(depth)\r\n",
        "\r\n",
        "  # add the mask to zero out padding tokens\r\n",
        "  if mask is not None:\r\n",
        "    logits += (mask * -1e9)\r\n",
        "\r\n",
        "  # softmax is normalized on the last axis (seq_len_k)\r\n",
        "  attention_weights = tf.nn.softmax(logits, axis=-1)\r\n",
        "\r\n",
        "  output = tf.matmul(attention_weights, value)\r\n",
        "\r\n",
        "  return output"
      ],
      "execution_count": 23,
      "outputs": []
    },
    {
      "cell_type": "code",
      "metadata": {
        "id": "aQBdSuXfLNgS"
      },
      "source": [
        "class MultiHeadAttention(tf.keras.layers.Layer):\r\n",
        "\r\n",
        "  def __init__(self, d_model, num_heads, name=\"multi_head_attention\"):\r\n",
        "    super(MultiHeadAttention, self).__init__(name=name)\r\n",
        "    self.num_heads = num_heads\r\n",
        "    self.d_model = d_model\r\n",
        "\r\n",
        "    assert d_model % self.num_heads == 0\r\n",
        "\r\n",
        "    self.depth = d_model // self.num_heads\r\n",
        "\r\n",
        "    self.query_dense = tf.keras.layers.Dense(units=d_model)\r\n",
        "    self.key_dense = tf.keras.layers.Dense(units=d_model)\r\n",
        "    self.value_dense = tf.keras.layers.Dense(units=d_model)\r\n",
        "\r\n",
        "    self.dense = tf.keras.layers.Dense(units=d_model)\r\n",
        "  \r\n",
        "  def get_config(self):\r\n",
        "        config = super(MultiHeadAttention,self).get_config()\r\n",
        "        config.update({\r\n",
        "            'num_heads':self.num_heads,\r\n",
        "            'd_model':self.d_model,\r\n",
        "        })\r\n",
        "        return config\r\n",
        "\r\n",
        "  def split_heads(self, inputs, batch_size):\r\n",
        "    inputs = tf.keras.layers.Lambda(lambda inputs:tf.reshape(\r\n",
        "        inputs, shape=(batch_size, -1, self.num_heads, self.depth)))(inputs)\r\n",
        "    return tf.keras.layers.Lambda(lambda inputs: tf.transpose(inputs, perm=[0, 2, 1, 3]))(inputs)\r\n",
        "\r\n",
        "  def call(self, inputs):\r\n",
        "    query, key, value, mask = inputs['query'], inputs['key'], inputs[\r\n",
        "        'value'], inputs['mask']\r\n",
        "    batch_size = tf.shape(query)[0]\r\n",
        "\r\n",
        "    # linear layers\r\n",
        "    query = self.query_dense(query)\r\n",
        "    key = self.key_dense(key)\r\n",
        "    value = self.value_dense(value)\r\n",
        "\r\n",
        "    # split heads\r\n",
        "    query = self.split_heads(query, batch_size)\r\n",
        "    key = self.split_heads(key, batch_size)\r\n",
        "    value = self.split_heads(value, batch_size)\r\n",
        "\r\n",
        "    # scaled dot-product attention\r\n",
        "    scaled_attention = scaled_dot_product_attention(query, key, value, mask)\r\n",
        "    scaled_attention = tf.keras.layers.Lambda(lambda scaled_attention: tf.transpose(\r\n",
        "        scaled_attention, perm=[0, 2, 1, 3]))(scaled_attention)\r\n",
        "\r\n",
        "    # concatenation of heads\r\n",
        "    concat_attention = tf.keras.layers.Lambda(lambda scaled_attention: tf.reshape(scaled_attention,\r\n",
        "                                  (batch_size, -1, self.d_model)))(scaled_attention)\r\n",
        "\r\n",
        "    # final linear layer\r\n",
        "    outputs = self.dense(concat_attention)\r\n",
        "\r\n",
        "    return outputs    "
      ],
      "execution_count": 24,
      "outputs": []
    },
    {
      "cell_type": "code",
      "metadata": {
        "id": "9SWu3kXZMqD6"
      },
      "source": [
        "def create_padding_mask(x):\r\n",
        "  mask = tf.cast(tf.math.equal(x, 0), tf.float32)\r\n",
        "  # (batch_size, 1, 1, sequence length)\r\n",
        "  return mask[:, tf.newaxis, tf.newaxis, :]"
      ],
      "execution_count": 25,
      "outputs": []
    },
    {
      "cell_type": "code",
      "metadata": {
        "colab": {
          "base_uri": "https://localhost:8080/"
        },
        "id": "tzjOFjJHM9GW",
        "outputId": "b3f57d55-6972-474f-9e41-742d00acc7be"
      },
      "source": [
        "print(create_padding_mask(tf.constant([[1, 2, 0, 3, 0], [0, 0, 0, 4, 5]])))"
      ],
      "execution_count": 26,
      "outputs": [
        {
          "output_type": "stream",
          "text": [
            "tf.Tensor(\n",
            "[[[[0. 0. 1. 0. 1.]]]\n",
            "\n",
            "\n",
            " [[[1. 1. 1. 0. 0.]]]], shape=(2, 1, 1, 5), dtype=float32)\n"
          ],
          "name": "stdout"
        }
      ]
    },
    {
      "cell_type": "code",
      "metadata": {
        "id": "mWbiziSGNAqV"
      },
      "source": [
        "def create_look_ahead_mask(x):\r\n",
        "  seq_len = tf.shape(x)[1]\r\n",
        "  look_ahead_mask = 1 - tf.linalg.band_part(tf.ones((seq_len, seq_len)), -1, 0)\r\n",
        "  padding_mask = create_padding_mask(x)\r\n",
        "  return tf.maximum(look_ahead_mask, padding_mask)"
      ],
      "execution_count": 27,
      "outputs": []
    },
    {
      "cell_type": "code",
      "metadata": {
        "colab": {
          "base_uri": "https://localhost:8080/"
        },
        "id": "wBcrLfhWNHxb",
        "outputId": "f5284f7b-208b-4827-a87a-dd948be9e98d"
      },
      "source": [
        "print(create_look_ahead_mask(tf.constant([[1, 2, 0, 4, 5]])))"
      ],
      "execution_count": 28,
      "outputs": [
        {
          "output_type": "stream",
          "text": [
            "tf.Tensor(\n",
            "[[[[0. 1. 1. 1. 1.]\n",
            "   [0. 0. 1. 1. 1.]\n",
            "   [0. 0. 1. 1. 1.]\n",
            "   [0. 0. 1. 0. 1.]\n",
            "   [0. 0. 1. 0. 0.]]]], shape=(1, 1, 5, 5), dtype=float32)\n"
          ],
          "name": "stdout"
        }
      ]
    },
    {
      "cell_type": "code",
      "metadata": {
        "id": "abftCf2VNJ8W"
      },
      "source": [
        "class PositionalEncoding(tf.keras.layers.Layer):\r\n",
        "\r\n",
        "  def __init__(self, position, d_model):\r\n",
        "    super(PositionalEncoding, self).__init__()\r\n",
        "    self.pos_encoding = self.positional_encoding(position, d_model)\r\n",
        "  \r\n",
        "  def get_config(self):\r\n",
        "\r\n",
        "        config = super(PositionalEncoding, self).get_config()\r\n",
        "        config.update({\r\n",
        "            'position': self.position,\r\n",
        "            'd_model': self.d_model,\r\n",
        "            \r\n",
        "        })\r\n",
        "        return config\r\n",
        "\r\n",
        "  def get_angles(self, position, i, d_model):\r\n",
        "    angles = 1 / tf.pow(10000, (2 * (i // 2)) / tf.cast(d_model, tf.float32))\r\n",
        "    return position * angles\r\n",
        "\r\n",
        "  def positional_encoding(self, position, d_model):\r\n",
        "    angle_rads = self.get_angles(\r\n",
        "        position=tf.range(position, dtype=tf.float32)[:, tf.newaxis],\r\n",
        "        i=tf.range(d_model, dtype=tf.float32)[tf.newaxis, :],\r\n",
        "        d_model=d_model)\r\n",
        "    # apply sin to even index in the array\r\n",
        "    sines = tf.math.sin(angle_rads[:, 0::2])\r\n",
        "    # apply cos to odd index in the array\r\n",
        "    cosines = tf.math.cos(angle_rads[:, 1::2])\r\n",
        "\r\n",
        "    pos_encoding = tf.concat([sines, cosines], axis=-1)\r\n",
        "    pos_encoding = pos_encoding[tf.newaxis, ...]\r\n",
        "    return tf.cast(pos_encoding, tf.float32)\r\n",
        "\r\n",
        "  def call(self, inputs):\r\n",
        "    return inputs + self.pos_encoding[:, :tf.shape(inputs)[1], :]"
      ],
      "execution_count": 29,
      "outputs": []
    },
    {
      "cell_type": "code",
      "metadata": {
        "colab": {
          "base_uri": "https://localhost:8080/",
          "height": 283
        },
        "id": "rwonKbL9NawP",
        "outputId": "65c6ab50-9e24-45b4-af50-5a5dfc6ddca0"
      },
      "source": [
        "sample_pos_encoding = PositionalEncoding(50, 512)\r\n",
        "\r\n",
        "plt.pcolormesh(sample_pos_encoding.pos_encoding.numpy()[0], cmap='RdBu')\r\n",
        "plt.xlabel('Depth')\r\n",
        "plt.xlim((0, 512))\r\n",
        "plt.ylabel('Position')\r\n",
        "plt.colorbar()\r\n",
        "plt.show()"
      ],
      "execution_count": 30,
      "outputs": [
        {
          "output_type": "display_data",
          "data": {
            "image/png": "[encoded data removed]",
            "text/plain": [
              "<Figure size 432x288 with 2 Axes>"
            ]
          },
          "metadata": {
            "tags": [],
            "needs_background": "light"
          }
        }
      ]
    },
    {
      "cell_type": "code",
      "metadata": {
        "id": "1ZLWfiexNpet"
      },
      "source": [
        "def encoder_layer(units, d_model, num_heads, dropout, name=\"encoder_layer\"):\r\n",
        "  inputs = tf.keras.Input(shape=(None, d_model), name=\"inputs\")\r\n",
        "  padding_mask = tf.keras.Input(shape=(1, 1, None), name=\"padding_mask\")\r\n",
        "\r\n",
        "  attention = MultiHeadAttention(\r\n",
        "      d_model, num_heads, name=\"attention\")({\r\n",
        "          'query': inputs,\r\n",
        "          'key': inputs,\r\n",
        "          'value': inputs,\r\n",
        "          'mask': padding_mask\r\n",
        "      })\r\n",
        "  attention = tf.keras.layers.Dropout(rate=dropout)(attention)\r\n",
        "  add_attention = tf.keras.layers.add([inputs,attention])\r\n",
        "  attention = tf.keras.layers.LayerNormalization(epsilon=1e-6)(add_attention)\r\n",
        "\r\n",
        "  outputs = tf.keras.layers.Dense(units=units, activation='relu')(attention)\r\n",
        "  outputs = tf.keras.layers.Dense(units=d_model)(outputs)\r\n",
        "  outputs = tf.keras.layers.Dropout(rate=dropout)(outputs)\r\n",
        "  add_attention = tf.keras.layers.add([attention,outputs])\r\n",
        "  outputs = tf.keras.layers.LayerNormalization(epsilon=1e-6)(add_attention)\r\n",
        "\r\n",
        "  return tf.keras.Model(\r\n",
        "      inputs=[inputs, padding_mask], outputs=outputs, name=name)"
      ],
      "execution_count": 31,
      "outputs": []
    },
    {
      "cell_type": "code",
      "metadata": {
        "id": "5UPbuhNROoWK"
      },
      "source": [
        "def encoder(vocab_size,\r\n",
        "            num_layers,\r\n",
        "            units,\r\n",
        "            d_model,\r\n",
        "            num_heads,\r\n",
        "            dropout,\r\n",
        "            name=\"encoder\"):\r\n",
        "  inputs = tf.keras.Input(shape=(None,), name=\"inputs\")\r\n",
        "  padding_mask = tf.keras.Input(shape=(1, 1, None), name=\"padding_mask\")\r\n",
        "\r\n",
        "  embeddings = tf.keras.layers.Embedding(vocab_size, d_model)(inputs)\r\n",
        "  embeddings *= tf.keras.layers.Lambda(lambda d_model: tf.math.sqrt(tf.cast(d_model, tf.float32)))(d_model)\r\n",
        "  embeddings = PositionalEncoding(vocab_size,d_model)(embeddings)\r\n",
        "\r\n",
        "  outputs = tf.keras.layers.Dropout(rate=dropout)(embeddings)\r\n",
        "\r\n",
        "  for i in range(num_layers):\r\n",
        "    outputs = encoder_layer(\r\n",
        "        units=units,\r\n",
        "        d_model=d_model,\r\n",
        "        num_heads=num_heads,\r\n",
        "        dropout=dropout,\r\n",
        "        name=\"encoder_layer_{}\".format(i),\r\n",
        "    )([outputs, padding_mask])\r\n",
        "\r\n",
        "  return tf.keras.Model(\r\n",
        "      inputs=[inputs, padding_mask], outputs=outputs, name=name)"
      ],
      "execution_count": 32,
      "outputs": []
    },
    {
      "cell_type": "code",
      "metadata": {
        "id": "u9lSJLVaQQ7P"
      },
      "source": [
        "def decoder_layer(units, d_model, num_heads, dropout, name=\"decoder_layer\"):\r\n",
        "  inputs = tf.keras.Input(shape=(None, d_model), name=\"inputs\")\r\n",
        "  enc_outputs = tf.keras.Input(shape=(None, d_model), name=\"encoder_outputs\")\r\n",
        "  look_ahead_mask = tf.keras.Input(\r\n",
        "      shape=(1, None, None), name=\"look_ahead_mask\")\r\n",
        "  padding_mask = tf.keras.Input(shape=(1, 1, None), name='padding_mask')\r\n",
        "\r\n",
        "  attention1 = MultiHeadAttention(\r\n",
        "      d_model, num_heads, name=\"attention_1\")(inputs={\r\n",
        "          'query': inputs,\r\n",
        "          'key': inputs,\r\n",
        "          'value': inputs,\r\n",
        "          'mask': look_ahead_mask\r\n",
        "      })\r\n",
        "  add_attention = tf.keras.layers.add([attention1,inputs])    \r\n",
        "  attention1 = tf.keras.layers.LayerNormalization(epsilon=1e-6)(add_attention)\r\n",
        "\r\n",
        "  attention2 = MultiHeadAttention(\r\n",
        "      d_model, num_heads, name=\"attention_2\")(inputs={\r\n",
        "          'query': attention1,\r\n",
        "          'key': enc_outputs,\r\n",
        "          'value': enc_outputs,\r\n",
        "          'mask': padding_mask\r\n",
        "      })\r\n",
        "  attention2 = tf.keras.layers.Dropout(rate=dropout)(attention2)\r\n",
        "  add_attention = tf.keras.layers.add([attention2,attention1])\r\n",
        "  attention2 = tf.keras.layers.LayerNormalization(epsilon=1e-6)(add_attention)\r\n",
        "\r\n",
        "  outputs = tf.keras.layers.Dense(units=units, activation='relu')(attention2)\r\n",
        "  outputs = tf.keras.layers.Dense(units=d_model)(outputs)\r\n",
        "  outputs = tf.keras.layers.Dropout(rate=dropout)(outputs)\r\n",
        "  add_attention = tf.keras.layers.add([outputs,attention2])\r\n",
        "  outputs = tf.keras.layers.LayerNormalization(epsilon=1e-6)(add_attention)\r\n",
        "\r\n",
        "  return tf.keras.Model(\r\n",
        "      inputs=[inputs, enc_outputs, look_ahead_mask, padding_mask],\r\n",
        "      outputs=outputs,\r\n",
        "      name=name)"
      ],
      "execution_count": 33,
      "outputs": []
    },
    {
      "cell_type": "code",
      "metadata": {
        "id": "N-RV6cuaROi1"
      },
      "source": [
        "def decoder(vocab_size,\r\n",
        "            num_layers,\r\n",
        "            units,\r\n",
        "            d_model,\r\n",
        "            num_heads,\r\n",
        "            dropout,\r\n",
        "            name='decoder'):\r\n",
        "  inputs = tf.keras.Input(shape=(None,), name='inputs')\r\n",
        "  enc_outputs = tf.keras.Input(shape=(None, d_model), name='encoder_outputs')\r\n",
        "  look_ahead_mask = tf.keras.Input(\r\n",
        "      shape=(1, None, None), name='look_ahead_mask')\r\n",
        "  padding_mask = tf.keras.Input(shape=(1, 1, None), name='padding_mask')\r\n",
        "  \r\n",
        "  embeddings = tf.keras.layers.Embedding(vocab_size, d_model)(inputs)\r\n",
        "  embeddings *= tf.keras.layers.Lambda(lambda d_model: tf.math.sqrt(tf.cast(d_model, tf.float32)))(d_model)\r\n",
        "  embeddings = PositionalEncoding(vocab_size, d_model)(embeddings)\r\n",
        "\r\n",
        "  outputs = tf.keras.layers.Dropout(rate=dropout)(embeddings)\r\n",
        "\r\n",
        "  for i in range(num_layers):\r\n",
        "    outputs = decoder_layer(\r\n",
        "        units=units,\r\n",
        "        d_model=d_model,\r\n",
        "        num_heads=num_heads,\r\n",
        "        dropout=dropout,\r\n",
        "        name='decoder_layer_{}'.format(i),\r\n",
        "    )(inputs=[outputs, enc_outputs, look_ahead_mask, padding_mask])\r\n",
        "\r\n",
        "  return tf.keras.Model(\r\n",
        "      inputs=[inputs, enc_outputs, look_ahead_mask, padding_mask],\r\n",
        "      outputs=outputs,\r\n",
        "      name=name)"
      ],
      "execution_count": 34,
      "outputs": []
    },
    {
      "cell_type": "code",
      "metadata": {
        "colab": {
          "base_uri": "https://localhost:8080/",
          "height": 551
        },
        "id": "z3hsRH-URgDM",
        "outputId": "661c7901-2f5e-4e14-c0d9-76872b4f5b05"
      },
      "source": [
        "sample_decoder = decoder(\r\n",
        "    vocab_size=8192,\r\n",
        "    num_layers=2,\r\n",
        "    units=512,\r\n",
        "    d_model=128,\r\n",
        "    num_heads=4,\r\n",
        "    dropout=0.3,\r\n",
        "    name=\"sample_decoder\")\r\n",
        "\r\n",
        "tf.keras.utils.plot_model(\r\n",
        "    sample_decoder, to_file='decoder.png', show_shapes=True)"
      ],
      "execution_count": 35,
      "outputs": [
        {
          "output_type": "execute_result",
          "data": {
            "image/png": "[encoded data removed]",
            "text/plain": [
              "<IPython.core.display.Image object>"
            ]
          },
          "metadata": {
            "tags": []
          },
          "execution_count": 35
        }
      ]
    },
    {
      "cell_type": "code",
      "metadata": {
        "id": "5qMl5RNPRkv6"
      },
      "source": [
        "def transformer(vocab_size,\r\n",
        "                num_layers,\r\n",
        "                units,\r\n",
        "                d_model,\r\n",
        "                num_heads,\r\n",
        "                dropout,\r\n",
        "                name=\"transformer\"):\r\n",
        "  inputs = tf.keras.Input(shape=(None,), name=\"inputs\")\r\n",
        "  dec_inputs = tf.keras.Input(shape=(None,), name=\"dec_inputs\")\r\n",
        "\r\n",
        "  enc_padding_mask = tf.keras.layers.Lambda(\r\n",
        "      create_padding_mask, output_shape=(1, 1, None),\r\n",
        "      name='enc_padding_mask')(inputs)\r\n",
        "  # mask the future tokens for decoder inputs at the 1st attention block\r\n",
        "  look_ahead_mask = tf.keras.layers.Lambda(\r\n",
        "      create_look_ahead_mask,\r\n",
        "      output_shape=(1, None, None),\r\n",
        "      name='look_ahead_mask')(dec_inputs)\r\n",
        "  # mask the encoder outputs for the 2nd attention block\r\n",
        "  dec_padding_mask = tf.keras.layers.Lambda(\r\n",
        "      create_padding_mask, output_shape=(1, 1, None),\r\n",
        "      name='dec_padding_mask')(inputs)\r\n",
        "\r\n",
        "  enc_outputs = encoder(\r\n",
        "      vocab_size=vocab_size,\r\n",
        "      num_layers=num_layers,\r\n",
        "      units=units,\r\n",
        "      d_model=d_model,\r\n",
        "      num_heads=num_heads,\r\n",
        "      dropout=dropout,\r\n",
        "  )(inputs=[inputs, enc_padding_mask])\r\n",
        "\r\n",
        "  dec_outputs = decoder(\r\n",
        "      vocab_size=vocab_size,\r\n",
        "      num_layers=num_layers,\r\n",
        "      units=units,\r\n",
        "      d_model=d_model,\r\n",
        "      num_heads=num_heads,\r\n",
        "      dropout=dropout,\r\n",
        "  )(inputs=[dec_inputs, enc_outputs, look_ahead_mask, dec_padding_mask])\r\n",
        "\r\n",
        "  outputs = tf.keras.layers.Dense(units=vocab_size, name=\"outputs\")(dec_outputs)\r\n",
        "\r\n",
        "  return tf.keras.Model(inputs=[inputs, dec_inputs], outputs=outputs, name=name)"
      ],
      "execution_count": 36,
      "outputs": []
    },
    {
      "cell_type": "code",
      "metadata": {
        "colab": {
          "base_uri": "https://localhost:8080/",
          "height": 478
        },
        "id": "-rtoFeHXRq3Y",
        "outputId": "e16e5926-a55d-40a8-84bf-0e542c51b158"
      },
      "source": [
        "sample_transformer = transformer(\r\n",
        "    vocab_size=8192,\r\n",
        "    num_layers=4,\r\n",
        "    units=512,\r\n",
        "    d_model=128,\r\n",
        "    num_heads=4,\r\n",
        "    dropout=0.3,\r\n",
        "    name=\"sample_transformer\")\r\n",
        "\r\n",
        "tf.keras.utils.plot_model(\r\n",
        "    sample_transformer, to_file='transformer.png', show_shapes=True)"
      ],
      "execution_count": 37,
      "outputs": [
        {
          "output_type": "execute_result",
          "data": {
            "image/png": "[encoded data removed]",
            "text/plain": [
              "<IPython.core.display.Image object>"
            ]
          },
          "metadata": {
            "tags": []
          },
          "execution_count": 37
        }
      ]
    },
    {
      "cell_type": "code",
      "metadata": {
        "id": "sLzEQvsmRxGi"
      },
      "source": [
        "def loss_function(y_true, y_pred):\r\n",
        "  y_true = tf.reshape(y_true, shape=(-1, MAX_LENGTH - 1))\r\n",
        "  \r\n",
        "  loss = tf.keras.losses.SparseCategoricalCrossentropy(\r\n",
        "      from_logits=True, reduction='none')(y_true, y_pred)\r\n",
        "\r\n",
        "  mask = tf.cast(tf.not_equal(y_true, 0), tf.float32)\r\n",
        "  loss = tf.multiply(loss, mask)\r\n",
        "\r\n",
        "  return tf.reduce_mean(loss)"
      ],
      "execution_count": 38,
      "outputs": []
    },
    {
      "cell_type": "code",
      "metadata": {
        "id": "fJbmTuF5R5x8"
      },
      "source": [
        "class CustomSchedule(tf.keras.optimizers.schedules.LearningRateSchedule):\r\n",
        "\r\n",
        "  def __init__(self, d_model, warmup_steps=4000):\r\n",
        "    super(CustomSchedule, self).__init__()\r\n",
        "    \r\n",
        "    self.d_model = tf.constant(d_model,dtype=tf.float32)\r\n",
        "    self.warmup_steps = warmup_steps\r\n",
        "    \r\n",
        "  def get_config(self):\r\n",
        "        return {\"d_model\": self.d_model,\"warmup_steps\":self.warmup_steps}\r\n",
        "    \r\n",
        "  def __call__(self, step):\r\n",
        "    arg1 = tf.math.rsqrt(step)\r\n",
        "    arg2 = step * (self.warmup_steps**-1.5)\r\n",
        "\r\n",
        "    return tf.math.multiply(tf.math.rsqrt(self.d_model), tf.math.minimum(arg1, arg2))"
      ],
      "execution_count": 39,
      "outputs": []
    },
    {
      "cell_type": "code",
      "metadata": {
        "colab": {
          "base_uri": "https://localhost:8080/",
          "height": 296
        },
        "id": "52WR1Uy7SFdW",
        "outputId": "94ee88b3-4de5-4ba7-e293-848a343ec69f"
      },
      "source": [
        "sample_learning_rate = CustomSchedule(d_model=128)\r\n",
        "\r\n",
        "plt.plot(sample_learning_rate(tf.range(200000, dtype=tf.float32)))\r\n",
        "plt.ylabel(\"Learning Rate\")\r\n",
        "plt.xlabel(\"Train Step\")"
      ],
      "execution_count": 40,
      "outputs": [
        {
          "output_type": "execute_result",
          "data": {
            "text/plain": [
              "Text(0.5, 0, 'Train Step')"
            ]
          },
          "metadata": {
            "tags": []
          },
          "execution_count": 40
        },
        {
          "output_type": "display_data",
          "data": {
            "image/png": "[encoded data removed]",
            "text/plain": [
              "<Figure size 432x288 with 1 Axes>"
            ]
          },
          "metadata": {
            "tags": [],
            "needs_background": "light"
          }
        }
      ]
    },
    {
      "cell_type": "code",
      "metadata": {
        "colab": {
          "base_uri": "https://localhost:8080/"
        },
        "id": "58ALMw3XSIPp",
        "outputId": "167e2762-a9e3-4194-9bad-e8cef76421b3"
      },
      "source": [
        "# clear backend\r\n",
        "tf.keras.backend.clear_session()\r\n",
        "\r\n",
        "learning_rate = CustomSchedule(D_MODEL)\r\n",
        "\r\n",
        "optimizer = tf.keras.optimizers.Adam(\r\n",
        "    learning_rate, beta_1=0.9, beta_2=0.98, epsilon=1e-9)\r\n",
        "\r\n",
        "def accuracy(y_true, y_pred):\r\n",
        "  # ensure labels have shape (batch_size, MAX_LENGTH - 1)\r\n",
        "  y_true = tf.reshape(y_true, shape=(-1, MAX_LENGTH - 1))\r\n",
        "  return tf.keras.metrics.sparse_categorical_accuracy(y_true, y_pred)\r\n",
        "\r\n",
        "# initialize and compile model within strategy scope\r\n",
        "with strategy.scope():\r\n",
        "  model = transformer(\r\n",
        "      vocab_size=VOCAB_SIZE,\r\n",
        "      num_layers=NUM_LAYERS,\r\n",
        "      units=UNITS,\r\n",
        "      d_model=D_MODEL,\r\n",
        "      num_heads=NUM_HEADS,\r\n",
        "      dropout=DROPOUT)\r\n",
        "\r\n",
        "  model.compile(optimizer=optimizer, loss=loss_function, metrics=[accuracy])\r\n",
        "\r\n",
        "model.summary()"
      ],
      "execution_count": 41,
      "outputs": [
        {
          "output_type": "stream",
          "text": [
            "Model: \"transformer\"\n",
            "__________________________________________________________________________________________________\n",
            "Layer (type)                    Output Shape         Param #     Connected to                     \n",
            "==================================================================================================\n",
            "inputs (InputLayer)             [(None, None)]       0                                            \n",
            "__________________________________________________________________________________________________\n",
            "dec_inputs (InputLayer)         [(None, None)]       0                                            \n",
            "__________________________________________________________________________________________________\n",
            "enc_padding_mask (Lambda)       (None, 1, 1, None)   0           inputs[0][0]                     \n",
            "__________________________________________________________________________________________________\n",
            "encoder (Functional)            (None, None, 512)    3465728     inputs[0][0]                     \n",
            "                                                                 enc_padding_mask[0][0]           \n",
            "__________________________________________________________________________________________________\n",
            "look_ahead_mask (Lambda)        (None, 1, None, None 0           dec_inputs[0][0]                 \n",
            "__________________________________________________________________________________________________\n",
            "dec_padding_mask (Lambda)       (None, 1, 1, None)   0           inputs[0][0]                     \n",
            "__________________________________________________________________________________________________\n",
            "decoder (Functional)            (None, None, 512)    5569024     dec_inputs[0][0]                 \n",
            "                                                                 encoder[0][0]                    \n",
            "                                                                 look_ahead_mask[0][0]            \n",
            "                                                                 dec_padding_mask[0][0]           \n",
            "__________________________________________________________________________________________________\n",
            "outputs (Dense)                 (None, None, 1630)   836190      decoder[0][0]                    \n",
            "==================================================================================================\n",
            "Total params: 9,870,942\n",
            "Trainable params: 9,870,942\n",
            "Non-trainable params: 0\n",
            "__________________________________________________________________________________________________\n"
          ],
          "name": "stdout"
        }
      ]
    },
    {
      "cell_type": "code",
      "metadata": {
        "colab": {
          "base_uri": "https://localhost:8080/"
        },
        "id": "twfj6NbSSawD",
        "outputId": "2a2059ff-9aa0-4511-be74-d51c4c912f7c"
      },
      "source": [
        "model.fit(dataset, epochs=EPOCHS)"
      ],
      "execution_count": 42,
      "outputs": [
        {
          "output_type": "stream",
          "text": [
            "Epoch 1/20\n",
            "WARNING:tensorflow:From /usr/local/lib/python3.6/dist-packages/tensorflow/python/data/ops/multi_device_iterator_ops.py:601: get_next_as_optional (from tensorflow.python.data.ops.iterator_ops) is deprecated and will be removed in a future version.\n",
            "Instructions for updating:\n",
            "Use `tf.data.Iterator.get_next_as_optional()` instead.\n"
          ],
          "name": "stdout"
        },
        {
          "output_type": "stream",
          "text": [
            "WARNING:tensorflow:From /usr/local/lib/python3.6/dist-packages/tensorflow/python/data/ops/multi_device_iterator_ops.py:601: get_next_as_optional (from tensorflow.python.data.ops.iterator_ops) is deprecated and will be removed in a future version.\n",
            "Instructions for updating:\n",
            "Use `tf.data.Iterator.get_next_as_optional()` instead.\n"
          ],
          "name": "stderr"
        },
        {
          "output_type": "stream",
          "text": [
            "\r  1/160 [..............................] - ETA: 34:23 - loss: 4.7867 - accuracy: 3.9725e-04WARNING:tensorflow:Callbacks method `on_train_batch_end` is slow compared to the batch time (batch time: 0.0080s vs `on_train_batch_end` time: 0.0388s). Check your callbacks.\n"
          ],
          "name": "stdout"
        },
        {
          "output_type": "stream",
          "text": [
            "WARNING:tensorflow:Callbacks method `on_train_batch_end` is slow compared to the batch time (batch time: 0.0080s vs `on_train_batch_end` time: 0.0388s). Check your callbacks.\n"
          ],
          "name": "stderr"
        },
        {
          "output_type": "stream",
          "text": [
            "160/160 [==============================] - 30s 187ms/step - loss: 4.2280 - accuracy: 0.0394\n",
            "Epoch 2/20\n",
            "160/160 [==============================] - 8s 47ms/step - loss: 2.0586 - accuracy: 0.3437\n",
            "Epoch 3/20\n",
            "160/160 [==============================] - 7s 46ms/step - loss: 0.5249 - accuracy: 0.5922\n",
            "Epoch 4/20\n",
            "160/160 [==============================] - 7s 47ms/step - loss: 0.0792 - accuracy: 0.6519\n",
            "Epoch 5/20\n",
            "160/160 [==============================] - 7s 45ms/step - loss: 0.0100 - accuracy: 0.6563\n",
            "Epoch 6/20\n",
            "160/160 [==============================] - 7s 46ms/step - loss: 0.0023 - accuracy: 0.6566\n",
            "Epoch 7/20\n",
            "160/160 [==============================] - 7s 45ms/step - loss: 5.4049e-04 - accuracy: 0.6566\n",
            "Epoch 8/20\n",
            "160/160 [==============================] - 8s 47ms/step - loss: 1.3702e-04 - accuracy: 0.6566\n",
            "Epoch 9/20\n",
            "160/160 [==============================] - 7s 46ms/step - loss: 3.1613e-04 - accuracy: 0.6566\n",
            "Epoch 10/20\n",
            "160/160 [==============================] - 7s 45ms/step - loss: 2.5153e-04 - accuracy: 0.6566\n",
            "Epoch 11/20\n",
            "160/160 [==============================] - 7s 45ms/step - loss: 2.5683e-04 - accuracy: 0.6566\n",
            "Epoch 12/20\n",
            "160/160 [==============================] - 8s 49ms/step - loss: 3.1526e-04 - accuracy: 0.6566\n",
            "Epoch 13/20\n",
            "160/160 [==============================] - 8s 48ms/step - loss: 8.7441e-05 - accuracy: 0.6566\n",
            "Epoch 14/20\n",
            "160/160 [==============================] - 8s 49ms/step - loss: 2.4114e-04 - accuracy: 0.6566\n",
            "Epoch 15/20\n",
            "160/160 [==============================] - 7s 45ms/step - loss: 4.2549e-04 - accuracy: 0.6566\n",
            "Epoch 16/20\n",
            "160/160 [==============================] - 7s 45ms/step - loss: 1.6094e-04 - accuracy: 0.6566\n",
            "Epoch 17/20\n",
            "160/160 [==============================] - 8s 48ms/step - loss: 3.7384e-04 - accuracy: 0.6566\n",
            "Epoch 18/20\n",
            "160/160 [==============================] - 8s 48ms/step - loss: 5.2868e-04 - accuracy: 0.6565\n",
            "Epoch 19/20\n",
            "160/160 [==============================] - 7s 47ms/step - loss: 3.9619e-04 - accuracy: 0.6566\n",
            "Epoch 20/20\n",
            "160/160 [==============================] - 8s 48ms/step - loss: 2.0595e-04 - accuracy: 0.6566\n"
          ],
          "name": "stdout"
        },
        {
          "output_type": "execute_result",
          "data": {
            "text/plain": [
              "<tensorflow.python.keras.callbacks.History at 0x7fc0794e9978>"
            ]
          },
          "metadata": {
            "tags": []
          },
          "execution_count": 42
        }
      ]
    },
    {
      "cell_type": "code",
      "metadata": {
        "id": "uvKl9S45TXaa"
      },
      "source": [
        "def evaluate(sentence):\r\n",
        "  sentence = preprocess_sentence(sentence)\r\n",
        "\r\n",
        "  sentence = tf.expand_dims(\r\n",
        "      START_TOKEN + tokenizer.encode(sentence) + END_TOKEN, axis=0)\r\n",
        "\r\n",
        "  output = tf.expand_dims(START_TOKEN, 0)\r\n",
        "\r\n",
        "  for i in range(MAX_LENGTH):\r\n",
        "    predictions = model(inputs=[sentence, output], training=False)\r\n",
        "\r\n",
        "    # select the last word from the seq_len dimension\r\n",
        "    predictions = predictions[:, -1:, :]\r\n",
        "    predicted_id = tf.cast(tf.argmax(predictions, axis=-1), tf.int32)\r\n",
        "\r\n",
        "    # return the result if the predicted_id is equal to the end token\r\n",
        "    if tf.equal(predicted_id, END_TOKEN[0]):\r\n",
        "      break\r\n",
        "\r\n",
        "    # concatenated the predicted_id to the output which is given to the decoder\r\n",
        "    # as its input.\r\n",
        "    output = tf.concat([output, predicted_id], axis=-1)\r\n",
        "\r\n",
        "  return tf.squeeze(output, axis=0)\r\n",
        "\r\n",
        "\r\n",
        "def predict(sentence):\r\n",
        "  prediction = evaluate(sentence)\r\n",
        "\r\n",
        "  predicted_sentence = tokenizer.decode(\r\n",
        "      [i for i in prediction if i < tokenizer.vocab_size])\r\n",
        "\r\n",
        "  print('Input: {}'.format(sentence))\r\n",
        "  print('Output: {}'.format(predicted_sentence))\r\n",
        "\r\n",
        "  return predicted_sentence"
      ],
      "execution_count": 43,
      "outputs": []
    },
    {
      "cell_type": "code",
      "metadata": {
        "id": "oBs6WfxCtdN9",
        "colab": {
          "base_uri": "https://localhost:8080/"
        },
        "outputId": "34c6ebde-c41a-4f80-f8af-feccffbe6d3c"
      },
      "source": [
        "output = predict(\"What is COVID-19?\")"
      ],
      "execution_count": 46,
      "outputs": [
        {
          "output_type": "stream",
          "text": [
            "Input: What is COVID-19?\n",
            "Output: COVID comes from corona (CO), virus (VI), and disease (D).19 because it was identified in the year 2019.\n"
          ],
          "name": "stdout"
        }
      ]
    },
    {
      "cell_type": "code",
      "metadata": {
        "colab": {
          "base_uri": "https://localhost:8080/"
        },
        "id": "laS-65wKYjG3",
        "outputId": "27caad77-eb95-4224-85f2-8bc8324f82a6"
      },
      "source": [
        "output = predict(\"What is quarantine?\")"
      ],
      "execution_count": 47,
      "outputs": [
        {
          "output_type": "stream",
          "text": [
            "Input: What is quarantine?\n",
            "Output: Stock up on supplies, take everyday precautions to keep space and distance between yourself and others, avoid people who are sick, avoid crowds, and wash your hands often.If there is an outbreak in your community, stay at home as much as possible and watch for symptoms and emergency signs.\n"
          ],
          "name": "stdout"
        }
      ]
    },
    {
      "cell_type": "code",
      "metadata": {
        "colab": {
          "base_uri": "https://localhost:8080/"
        },
        "id": "q7XSZB32YxCd",
        "outputId": "a66a184a-e85d-404f-a7b8-fd963c04de47"
      },
      "source": [
        "output = predict(\"What are the precautions for spread of corona virus?\")"
      ],
      "execution_count": 48,
      "outputs": [
        {
          "output_type": "stream",
          "text": [
            "Input: What are the precautions for spread of corona virus?\n",
            "Output: Socially distancing is a practice that aims to prevent those who are sick from coming into contact with those who are healthy.As COVID-19 spreads person-to-person in close contact, we want to reduce the chance of infection amongst populations that are vulnerable.\n"
          ],
          "name": "stdout"
        }
      ]
    },
    {
      "cell_type": "code",
      "metadata": {
        "colab": {
          "base_uri": "https://localhost:8080/"
        },
        "id": "_z3XQUI2ZLYF",
        "outputId": "81748fb4-6ac6-4709-9eb6-089b3c6e14c2"
      },
      "source": [
        "output = predict(\"How to flatten corona virus curve?\")"
      ],
      "execution_count": 49,
      "outputs": [
        {
          "output_type": "stream",
          "text": [
            "Input: How to flatten corona virus curve?\n",
            "Output: If the person is coughing, sneezing, and exhibiting other symptoms of COVID-19, wearing a mask can be recommended.However, masks are only really effective if it is used in combination with frequent hand-washing with soap and water, or with an alcohol-based sanitizer.\n"
          ],
          "name": "stdout"
        }
      ]
    },
    {
      "cell_type": "code",
      "metadata": {
        "colab": {
          "base_uri": "https://localhost:8080/"
        },
        "id": "6t3J5-lhZjAJ",
        "outputId": "57e81a37-2769-4ce4-856f-b298ce1cf65e"
      },
      "source": [
        "output = predict(\"What are the symptoms of COVID-19?\")"
      ],
      "execution_count": 50,
      "outputs": [
        {
          "output_type": "stream",
          "text": [
            "Input: What are the symptoms of COVID-19?\n",
            "Output: These are the symptoms that can appear 2 to 14 days after exposure: fever, cough, shortness of breath, pneumonia in both lungs.This is not an all inclusive list - if you are experiencing symptoms that are severe or concerning, talk to your medical provider.\n"
          ],
          "name": "stdout"
        }
      ]
    },
    {
      "cell_type": "code",
      "metadata": {
        "colab": {
          "base_uri": "https://localhost:8080/"
        },
        "id": "pNKoyahHZ6jM",
        "outputId": "544e2bdb-af7e-481e-d4f6-940d4b370b58"
      },
      "source": [
        "output = predict(\"What are the medicines one can take for COVID-19?\")"
      ],
      "execution_count": 62,
      "outputs": [
        {
          "output_type": "stream",
          "text": [
            "Input: What are the medicines one can take for COVID-19?\n",
            "Output: Keep in mind that some recipes call for using liquor (like vodka), which is usually 40% alcohol, and might not reach the threshold you need.For instance, Tito’s Vodka has been urging people not to use its product in DIY sanitizer solutions.\n"
          ],
          "name": "stdout"
        }
      ]
    }
  ]
}